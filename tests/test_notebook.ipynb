{
 "cells": [
  {
   "cell_type": "markdown",
   "metadata": {},
   "source": [
    "# Manual tests of PDBeMolstar\n",
    "\n",
    "Run cells and confirm is described effect is observed"
   ]
  },
  {
   "cell_type": "code",
   "execution_count": 6,
   "metadata": {},
   "outputs": [],
   "source": [
    "from ipymolstar import PDBeMolstar\n",
    "from ipywidgets import VBox\n"
   ]
  },
  {
   "cell_type": "markdown",
   "metadata": {},
   "source": [
    "## height\n",
    "expected: vbox with two viewers with 200/400 px height"
   ]
  },
  {
   "cell_type": "code",
   "execution_count": 16,
   "metadata": {},
   "outputs": [
    {
     "data": {
      "application/vnd.jupyter.widget-view+json": {
       "model_id": "c716fd207a7642c3a8148d6429c0f456",
       "version_major": 2,
       "version_minor": 0
      },
      "text/plain": [
       "VBox(children=(PDBeMolstar(bg_color='#F7F7F7', height='200px', molecule_id='1qyn'), PDBeMolstar(bg_color='#F7F…"
      ]
     },
     "execution_count": 16,
     "metadata": {},
     "output_type": "execute_result"
    }
   ],
   "source": [
    "\n",
    "v1 = PDBeMolstar(molecule_id='1qyn', height=\"200px\")\n",
    "v2 = PDBeMolstar(molecule_id='1qyn', height=\"400px\")\n",
    "VBox([v1, v2])\n"
   ]
  },
  {
   "cell_type": "markdown",
   "metadata": {},
   "source": [
    "## molecule_id\n",
    "expected: Initial load of '1qyn', rerender to '2nnu' on trigger"
   ]
  },
  {
   "cell_type": "code",
   "execution_count": 27,
   "metadata": {},
   "outputs": [
    {
     "data": {
      "application/vnd.jupyter.widget-view+json": {
       "model_id": "f20a9b627be1495a8680c6deb41aecfc",
       "version_major": 2,
       "version_minor": 0
      },
      "text/plain": [
       "PDBeMolstar(bg_color='#F7F7F7', height='150px', molecule_id='1qyn')"
      ]
     },
     "execution_count": 27,
     "metadata": {},
     "output_type": "execute_result"
    }
   ],
   "source": [
    "v = PDBeMolstar(molecule_id='1qyn', height='150px')\n",
    "v"
   ]
  },
  {
   "cell_type": "code",
   "execution_count": 28,
   "metadata": {},
   "outputs": [],
   "source": [
    "v.molecule_id = '2nnu'"
   ]
  },
  {
   "cell_type": "markdown",
   "metadata": {},
   "source": [
    "# custom_data\n",
    "expected: Initial load of `1cbs`, rerender to chainA of `1qyn` on trigger (trigger does not work)"
   ]
  },
  {
   "cell_type": "code",
   "execution_count": 34,
   "metadata": {},
   "outputs": [
    {
     "data": {
      "application/vnd.jupyter.widget-view+json": {
       "model_id": "81d95973cf31465eac4767d2043a203f",
       "version_major": 2,
       "version_minor": 0
      },
      "text/plain": [
       "PDBeMolstar(bg_color='#F7F7F7', custom_data={'url': 'https://www.ebi.ac.uk/pdbe/model-server/v1/1cbs/atoms?lab…"
      ]
     },
     "execution_count": 34,
     "metadata": {},
     "output_type": "execute_result"
    }
   ],
   "source": [
    "custom_data = dict(url='https://www.ebi.ac.uk/pdbe/model-server/v1/1cbs/atoms?label_entity_id=1&auth_asym_id=A&encoding=bcif', format='cif', binary=True)\n",
    "v = PDBeMolstar(custom_data=custom_data, height='150px')\n",
    "v"
   ]
  },
  {
   "cell_type": "code",
   "execution_count": 35,
   "metadata": {},
   "outputs": [],
   "source": [
    "new_custom_data = dict(url='https://www.ebi.ac.uk/pdbe/model-server/v1/1qyn/atoms?label_entity_id=1&auth_asym_id=A&encoding=bcif', format='cif', binary=True)\n",
    "v.cumstom_data = new_custom_data"
   ]
  },
  {
   "cell_type": "code",
   "execution_count": null,
   "metadata": {},
   "outputs": [],
   "source": []
  }
 ],
 "metadata": {
  "kernelspec": {
   "display_name": "Python 3 (ipykernel)",
   "language": "python",
   "name": "python3"
  },
  "language_info": {
   "codemirror_mode": {
    "name": "ipython",
    "version": 3
   },
   "file_extension": ".py",
   "mimetype": "text/x-python",
   "name": "python",
   "nbconvert_exporter": "python",
   "pygments_lexer": "ipython3",
   "version": "3.10.13"
  }
 },
 "nbformat": 4,
 "nbformat_minor": 4
}
