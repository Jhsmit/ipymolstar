{
 "cells": [
  {
   "cell_type": "markdown",
   "metadata": {},
   "source": [
    "# Manual tests of PDBeMolstar\n",
    "\n",
    "Run cells and confirm is described effect is observed"
   ]
  },
  {
   "cell_type": "code",
   "execution_count": null,
   "metadata": {},
   "outputs": [],
   "source": [
    "from ipymolstar import PDBeMolstar\n",
    "from ipywidgets import VBox\n"
   ]
  },
  {
   "cell_type": "markdown",
   "metadata": {},
   "source": [
    "## height\n",
    "expected: vbox with two viewers with 200/400 px height"
   ]
  },
  {
   "cell_type": "code",
   "execution_count": null,
   "metadata": {},
   "outputs": [],
   "source": [
    "\n",
    "v1 = PDBeMolstar(molecule_id='1qyn', height=\"200px\")\n",
    "v2 = PDBeMolstar(molecule_id='1qyn', height=\"400px\")\n",
    "VBox([v1, v2])\n"
   ]
  },
  {
   "cell_type": "code",
   "execution_count": null,
   "metadata": {},
   "outputs": [],
   "source": [
    "#using widgets layout\n",
    "PDBeMolstar(molecule_id='1qyn',layout=Layout(width='500px', height='250px')) "
   ]
  },
  {
   "cell_type": "markdown",
   "metadata": {},
   "source": [
    "## molecule_id\n",
    "expected: Initial load of '1qyn', rerender to '2nnu' on trigger"
   ]
  },
  {
   "cell_type": "code",
   "execution_count": null,
   "metadata": {},
   "outputs": [],
   "source": [
    "v = PDBeMolstar(molecule_id='1qyn', height='150px')\n",
    "v"
   ]
  },
  {
   "cell_type": "code",
   "execution_count": null,
   "metadata": {},
   "outputs": [],
   "source": [
    "v.molecule_id = '2nnu'"
   ]
  },
  {
   "cell_type": "markdown",
   "metadata": {},
   "source": [
    "# custom_data\n",
    "expected: Initial load of `1cbs`, rerender to chainA of `1qyn` on trigger (trigger does not work)"
   ]
  },
  {
   "cell_type": "code",
   "execution_count": null,
   "metadata": {},
   "outputs": [],
   "source": [
    "custom_data = dict(url='https://www.ebi.ac.uk/pdbe/model-server/v1/1cbs/atoms?label_entity_id=1&auth_asym_id=A&encoding=bcif', format='cif', binary=True)\n",
    "v = PDBeMolstar(custom_data=custom_data, height='150px', alphafold_view=True)\n",
    "v"
   ]
  },
  {
   "cell_type": "code",
   "execution_count": null,
   "metadata": {},
   "outputs": [],
   "source": [
    "new_custom_data = dict(url='https://www.ebi.ac.uk/pdbe/model-server/v1/1qyn/atoms?label_entity_id=1&auth_asym_id=A&encoding=bcif', format='cif', binary=True)\n",
    "v.custom_data = new_custom_data"
   ]
  },
  {
   "cell_type": "code",
   "execution_count": null,
   "metadata": {},
   "outputs": [],
   "source": [
    "\n",
    "#alphafold colors and tooltips\n",
    "custom_data = dict(url='https://alphafold.ebi.ac.uk/files/AF-Q8I3H7-F1-model_v4.cif', format='cif', binary=False)\n",
    "v = PDBeMolstar(custom_data=custom_data, height='150px', alphafold_view=True)\n",
    "\n",
    "v"
   ]
  },
  {
   "cell_type": "code",
   "execution_count": null,
   "metadata": {},
   "outputs": [],
   "source": [
    "from pathlib import Path \n",
    "fpth = Path().resolve().parent / 'assets' / '6vsb.bcif'\n",
    "custom_data = {\n",
    "    'data': fpth.read_bytes(),\n",
    "    'format': 'cif',\n",
    "    'binary': True,\n",
    "    }\n",
    "view = PDBeMolstar(\n",
    "    custom_data=custom_data, \n",
    "    hide_controls_icon=True, \n",
    "    hide_expand_icon=True, \n",
    "    hide_settings_icon=True, \n",
    "    hide_selection_icon=True, \n",
    "    hide_animation_icon=True,\n",
    "    hide_water=True,\n",
    "    hide_carbs=True,\n",
    ")\n",
    "view"
   ]
  }
 ],
 "metadata": {
  "kernelspec": {
   "display_name": ".venv",
   "language": "python",
   "name": "python3"
  },
  "language_info": {
   "codemirror_mode": {
    "name": "ipython",
    "version": 3
   },
   "file_extension": ".py",
   "mimetype": "text/x-python",
   "name": "python",
   "nbconvert_exporter": "python",
   "pygments_lexer": "ipython3",
   "version": "3.10.13"
  }
 },
 "nbformat": 4,
 "nbformat_minor": 4
}
