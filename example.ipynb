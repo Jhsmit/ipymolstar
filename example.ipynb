{
 "cells": [
  {
   "cell_type": "code",
   "execution_count": null,
   "metadata": {},
   "outputs": [],
   "source": [
    "# /// script\n",
    "# requires-python = \">=3.9\"\n",
    "# dependencies = [\n",
    "#     \"ipymolstar\",\n",
    "# ]\n",
    "# ///"
   ]
  },
  {
   "cell_type": "code",
   "execution_count": null,
   "metadata": {},
   "outputs": [],
   "source": [
    "from ipymolstar import PDBeMolstar\n",
    "view = PDBeMolstar(molecule_id='1qyn', theme='light', hide_water=True)\n",
    "view"
   ]
  },
  {
   "cell_type": "code",
   "execution_count": null,
   "metadata": {},
   "outputs": [],
   "source": [
    "view = PDBeMolstar(\n",
    "    molecule_id=\"1qyn\",\n",
    "    theme=\"light\",\n",
    "    hide_water=True,\n",
    "    visual_style=\"cartoon\",\n",
    "    spin=False,\n",
    "    lighting='glossy',\n",
    ")\n",
    "\n",
    "view.tooltips = { 'data': [\n",
    "                        { 'struct_asym_id': 'A', 'tooltip': 'Custom tooltip for chain A' }, \n",
    "                        { 'struct_asym_id': 'B', 'tooltip': 'Custom tooltip for chain B' }, \n",
    "                        { 'struct_asym_id': 'C', 'tooltip': 'Custom tooltip for chain C' }, \n",
    "                        { 'struct_asym_id': 'D', 'tooltip': 'Custom tooltip for chain D' }, \n",
    "                    ] }\n",
    "\n",
    "view"
   ]
  },
  {
   "cell_type": "code",
   "execution_count": null,
   "metadata": {},
   "outputs": [],
   "source": [
    "view.clear_tooltips()"
   ]
  },
  {
   "cell_type": "code",
   "execution_count": null,
   "metadata": {},
   "outputs": [],
   "source": [
    "# color residues\n",
    "data = [\n",
    "    {\n",
    "        \"start_residue_number\": 0,\n",
    "        \"end_residue_number\": 153,\n",
    "        \"struct_asym_id\": \"A\",\n",
    "        \"color\": {\"r\": 100, \"g\": 150, \"b\": 120},\n",
    "        \"focus\": False,\n",
    "    },\n",
    "    {\n",
    "        \"start_residue_number\": 30,\n",
    "        \"end_residue_number\": 153,\n",
    "        \"struct_asym_id\": \"B\",\n",
    "        \"color\": {\"r\": 213, \"g\": 52, \"b\": 235},\n",
    "        \"focus\": False,\n",
    "    },\n",
    "]\n",
    "\n",
    "view.color(data, non_selected_color={\"r\": 0, \"g\": 87, \"b\": 0})"
   ]
  },
  {
   "cell_type": "code",
   "execution_count": null,
   "metadata": {},
   "outputs": [],
   "source": [
    "# color residues, keep previous coloring\n",
    "data = [\n",
    "    {\n",
    "        \"struct_asym_id\": \"C\",\n",
    "        \"color\": {\"r\": 255, \"g\": 255, \"b\": 0},\n",
    "        \"focus\": False,\n",
    "    },\n",
    "]\n",
    "\n",
    "color_data = {\n",
    "     'data': data, \n",
    "     \"nonSelectedColor\": None,\n",
    "    \"keepColors\": True\n",
    "}\n",
    "view.color_data = color_data"
   ]
  },
  {
   "cell_type": "code",
   "execution_count": null,
   "metadata": {},
   "outputs": [],
   "source": [
    "# keep current colors, change representation of chain D\n",
    "data = [\n",
    "    {\"struct_asym_id\": \"D\",'representation': 'gaussian-surface', 'representationColor': '#ff00ff'}\n",
    "]\n",
    "color_data = {'data': data, \"keepColors\": True, 'keepRepresentations': False}\n",
    "view.color_data = color_data"
   ]
  },
  {
   "cell_type": "code",
   "execution_count": null,
   "metadata": {},
   "outputs": [],
   "source": [
    "# load local files via custom_data\n",
    "from pathlib import Path \n",
    "fpth = Path().resolve() / 'assets' / '6vsb.bcif'\n",
    "custom_data = {\n",
    "    'data': fpth.read_bytes(),\n",
    "    'format': 'cif',\n",
    "    'binary': True,\n",
    "    }\n",
    "view = PDBeMolstar(\n",
    "    custom_data=custom_data, \n",
    "    hide_water=True,\n",
    "    hide_carbs=True,\n",
    ")\n",
    "view"
   ]
  },
  {
   "cell_type": "code",
   "execution_count": null,
   "metadata": {},
   "outputs": [],
   "source": [
    "# interact from python with the view; turn off spin\n",
    "view.spin = False"
   ]
  },
  {
   "cell_type": "code",
   "execution_count": null,
   "metadata": {},
   "outputs": [],
   "source": [
    "# focus on a section of residues\n",
    "view.spin = False\n",
    "data = [\n",
    "    {\n",
    "        \"entity_id\": \"1\",\n",
    "        \"struct_asym_id\": \"A\",\n",
    "        \"start_residue_number\": 10,\n",
    "        \"end_residue_number\": 15,\n",
    "    }\n",
    "]\n",
    "\n",
    "view.focus(data)"
   ]
  },
  {
   "cell_type": "code",
   "execution_count": null,
   "metadata": {},
   "outputs": [],
   "source": [
    "# hightlight the residues\n",
    "data_dict = {\n",
    "    \"data\": [\n",
    "        {\n",
    "            \"entity_id\": \"1\",\n",
    "            \"struct_asym_id\": \"A\",\n",
    "            \"start_residue_number\": 10,\n",
    "            \"end_residue_number\": 15,\n",
    "        }\n",
    "    ]\n",
    "}\n",
    "\n",
    "view.highlight(data_dict)"
   ]
  },
  {
   "cell_type": "code",
   "execution_count": null,
   "metadata": {},
   "outputs": [],
   "source": [
    "# clear highlight\n",
    "view.clear_highlight()"
   ]
  },
  {
   "cell_type": "code",
   "execution_count": null,
   "metadata": {},
   "outputs": [],
   "source": [
    "# color residue by residue number, independent of chain\n",
    "\n",
    "from matplotlib.colors import Normalize\n",
    "from matplotlib import colormaps\n",
    "\n",
    "# note that the pdbe molstar widget will revert do default colors if you attempt\n",
    "# to color outside of the residue range in the model\n",
    "residue_range = (10, 150)\n",
    "norm = Normalize(vmin=residue_range[0], vmax=residue_range[1])\n",
    "\n",
    "cmap = colormaps[\"viridis\"]\n",
    "data = []\n",
    "for i in range(residue_range[0], residue_range[1]):\n",
    "    r, g, b, a = cmap(norm(i), bytes=True)\n",
    "    color = {\"r\": int(r), \"g\": int(g), \"b\": int(b)}\n",
    "    elem = {\n",
    "        \"start_residue_number\": i,\n",
    "        \"end_residue_number\": i + 1,\n",
    "        \"color\": color,\n",
    "        \"focus\": False,\n",
    "    }\n",
    "    data.append(elem)\n",
    "\n",
    "view.color(data, non_selected_color={\"r\": 87, \"g\": 87, \"b\": 87})"
   ]
  },
  {
   "cell_type": "markdown",
   "metadata": {},
   "source": [
    "ipymolstar implements most of the PDBeMolstar options and functions.\n",
    "See the pdbe molstar wiki for details ([options](https://github.com/molstar/pdbe-molstar/wiki/1.-PDBe-Molstar-as-JS-plugin#plugin-parameters-options), [methods](https://github.com/molstar/pdbe-molstar/wiki/3.-Helper-Methods))\n",
    "\n",
    "(Not all of these are tested.)\n"
   ]
  }
 ],
 "metadata": {
  "kernelspec": {
   "display_name": "Python 3 (ipykernel)",
   "language": "python",
   "name": "python3"
  },
  "language_info": {
   "codemirror_mode": {
    "name": "ipython",
    "version": 3
   },
   "file_extension": ".py",
   "mimetype": "text/x-python",
   "name": "python",
   "nbconvert_exporter": "python",
   "pygments_lexer": "ipython3",
   "version": "3.13.1"
  },
  "widgets": {
   "application/vnd.jupyter.widget-state+json": {
    "state": {
     "4512cd38d44c4007b2645b45fc889961": {
      "model_module": "@jupyter-widgets/base",
      "model_module_version": "2.0.0",
      "model_name": "LayoutModel",
      "state": {}
     },
     "66691391eb8046a5b9005b96368495b4": {
      "model_module": "anywidget",
      "model_module_version": "~0.9.*",
      "model_name": "AnyModel",
      "state": {
       "_anywidget_id": "ipymolstar.widget.PDBeMolstar",
       "_args": {},
       "_clear_highlight": false,
       "_clear_selection": false,
       "_clear_tooltips": false,
       "_css": "@import url('https://cdn.jsdelivr.net/npm/pdbe-molstar@3.2.0/build/pdbe-molstar-light.css');",
       "_esm": "import \"https://cdn.jsdelivr.net/npm/pdbe-molstar@3.2.0/build/pdbe-molstar-plugin.js\";\n\nfunction standardize_color(str) {\n  var ctx = document.createElement(\"canvas\").getContext(\"2d\");\n  ctx.fillStyle = str;\n  return ctx.fillStyle;\n}\nfunction toRgb(color) {\n  var hex = standardize_color(color);\n  var result = /^#?([a-f\\d]{2})([a-f\\d]{2})([a-f\\d]{2})$/i.exec(hex);\n  return result\n    ? {\n        r: parseInt(result[1], 16),\n        g: parseInt(result[2], 16),\n        b: parseInt(result[3], 16),\n      }\n    : null;\n}\n\nfunction getHideStructure(model) {\n  var hideStructure = [];\n\n  if (model.get(\"hide_polymer\")) {\n    hideStructure.push(\"polymer\");\n  }\n  if (model.get(\"hide_water\")) {\n    hideStructure.push(\"water\");\n  }\n  if (model.get(\"hide_heteroatoms\")) {\n    hideStructure.push(\"het\");\n  }\n  if (model.get(\"hide_carbs\")) {\n    hideStructure.push(\"carbs\");\n  }\n  if (model.get(\"hide_non_standard\")) {\n    hideStructure.push(\"nonStandard\");\n  }\n  if (model.get(\"hide_coarse\")) {\n    hideStructure.push(\"coarse\");\n  }\n\n  return hideStructure;\n}\n\nfunction getVisibility(model) {\n  var visibility = {\n    polymer: !model.get(\"hide_polymer\"),\n    het: !model.get(\"hide_heteroatoms\"),\n    water: !model.get(\"hide_water\"),\n    carbs: !model.get(\"hide_carbs\"),\n    // maps ?\n  };\n\n  return visibility;\n}\n\nfunction getHideCanvasControls(model) {\n  var hideCanvasControls = [];\n  if (model.get(\"hide_controls_icon\")) {\n    hideCanvasControls.push(\"controlToggle\");\n  }\n  if (model.get(\"hide_expand_icon\")) {\n    hideCanvasControls.push(\"expand\");\n  }\n  if (model.get(\"hide_settings_icon\")) {\n    hideCanvasControls.push(\"controlInfo\");\n  }\n  if (model.get(\"hide_selection_icon\")) {\n    hideCanvasControls.push(\"selection\");\n  }\n  if (model.get(\"hide_animation_icon\")) {\n    hideCanvasControls.push(\"animation\");\n  }\n\n  return hideCanvasControls;\n}\n\nfunction getCustomData(model) {\n  var customData = model.get(\"custom_data\");\n  \n  if (customData && 'data' in customData) {\n    var url = URL.createObjectURL(new Blob([customData.data]));\n    customData.url = url;\n    delete customData.data;\n  }\n\n  return customData;\n}\n\nconst EmptyFocusBindings = {\n  clickCenterFocus: { triggers: [], action: '', description: '' },\n  clickCenterFocusSelectMode: { triggers: [], action: '', description: '' },\n  clickResetCameraOnEmpty: { triggers: [], action: '', description: '' },\n  clickResetCameraOnEmptySelectMode: { triggers: [], action: '', description: '' }\n};\n\n\nfunction getOptions(model) {\n  var options = {\n    moleculeId: model.get(\"molecule_id\"),\n    customData: getCustomData(model),\n    assemblyId: model.get(\"assembly_id\"),\n    defaultPreset: model.get(\"default_preset\"),\n    ligandView: model.get(\"ligand_view\"),\n    alphafoldView: model.get(\"alphafold_view\"),\n    superposition: model.get(\"superposition\"),\n    superpositionParams: model.get(\"superposition_params\"),\n    visualStyle: model.get(\"visual_style\"),\n    loadMaps: model.get(\"load_maps\"),\n    bgColor: toRgb(model.get(\"bg_color\")),\n    selectColor: toRgb(model.get(\"select_color\")),\n    lighting: model.get(\"lighting\"),\n    validationAnnotation: model.get(\"validation_annotation\"),\n    symmetryAnnotation: model.get(\"symmetry_annotation\"),\n    pdbeUrl: model.get(\"pdbe_url\"),\n    encoding: model.get(\"encoding\"),\n    lowPrecisionCoords: model.get(\"low_precision_coords\"),\n    selectInteraction: model.get(\"select_interaction\"),\n    // selectBindings: EmptySelectBindings,\n    granularity: model.get(\"granularity\"),\n    subscribeEvents: model.get(\"subscribe_events\"),\n    hideControls: model.get(\"hide_controls\"),\n    hideCanvasControls: getHideCanvasControls(model),\n    sequencePanel: model.get(\"sequence_panel\"),\n    pdbeLink: model.get(\"pdbe_link\"),\n    loadingOverlay: model.get(\"loading_overlay\"),\n    expanded: model.get(\"expanded\"),\n    landscape: model.get(\"landscape\"),\n    reactive: model.get(\"reactive\"),\n  };\n\n  if (model.get('click_focus') == false) {\n      options.focusBindings = EmptyFocusBindings;\n  }\n\n  return options;\n}\n\nfunction subscribe(model, name, callback) {\n  model.on(name, callback);\n  return () => model.off(name, callback);\n}\n\nfunction render({ model, el }) {\n  let viewerContainer = document.createElement(\"div\");\n  viewerContainer.id = \"viewer_container\";\n\n  viewerContainer.style.height = model.get(\"height\");\n  viewerContainer.style.width = model.get(\"width\");\n\n  // Make the container responsive\n  viewerContainer.style.maxWidth = \"100%\";\n  viewerContainer.style.boxSizing = \"border-box\";\n\n  var viewerInstance = new window.PDBeMolstarPlugin();\n  viewerInstance.render(viewerContainer, getOptions(model)); //.then(() => {\n  el.appendChild(viewerContainer);\n\n  // callbacks to be called after loading is complete\n  let callbacksLoadComplete = {\n    \"change:spin\": () => viewerInstance.visual.toggleSpin(model.get(\"spin\")),\n    \"change:hide_polymer\": () => {\n      viewerInstance.visual.visibility({ polymer: !model.get(\"hide_polymer\") });\n    },\n    \"change:hide_water\": () => {\n      viewerInstance.visual.visibility({ water: !model.get(\"hide_water\") });\n    },\n    \"change:hide_heteroatoms\": () => {\n      viewerInstance.visual.visibility({ het: !model.get(\"hide_heteroatoms\") });\n    },\n    \"change:hide_carbs\": () => {\n      viewerInstance.visual.visibility({ carbs: !model.get(\"hide_carbs\") });\n    },\n    \"change:hide_non_standard\": () => {\n      viewerInstance.visual.visibility({\n        nonStandard: !model.get(\"hide_non_standard\"),\n      });\n    },\n    \"change:hide_coarse\": () => {\n      viewerInstance.visual.visibility({ coarse: !model.get(\"hide_coarse\") });\n    },\n    \"change:color_data\": () => {\n      const selectValue = model.get(\"color_data\");\n      if (selectValue !== null) {\n        viewerInstance.visual.select(selectValue);\n      }\n    },\n    \"change:highlight\": () => {\n      const highlightValue = model.get(\"highlight\");\n      if (highlightValue !== null) {\n      viewerInstance.visual.highlight(highlightValue);\n      }\n    },\n    \"change:highlight_color\": () => {\n      const highlightColorValue = model.get(\"highlight_color\");      \n      if (highlightColorValue !== null) {\n        viewerInstance.visual.setColor({ highlight: highlightColorValue });\n      }\n    },\n    \"change:tooltips\": () => {\n      const tooltipValue = model.get(\"tooltips\");\n      if (tooltipValue !== null) {\n        viewerInstance.visual.tooltips(tooltipValue);\n      }\n    },\n  };\n\n  let otherCallbacks = {\n    \"change:molecule_id\": () => {\n      viewerInstance.visual.update(getOptions(model), true);\n    },\n    \"change:custom_data\": () => {\n      viewerInstance.visual.update(getOptions(model), true);\n    },\n    \"change:visual_style\": () => {\n      viewerInstance.visual.update(getOptions(model), true);\n    },\n    \"change:expanded\": () => {\n      viewerInstance.canvas.toggleExpanded(model.get(\"expanded\"));\n    },\n    \"change:bg_color\": () => {\n      viewerInstance.canvas.setBgColor(toRgb(model.get(\"bg_color\")));\n    },\n    \"change:_reset\": () => {\n      const resetValue = model.get(\"_reset\");\n      if (resetValue !== null) {\n        viewerInstance.visual.reset(resetValue);\n      }\n    },\n    \"change:_clear_tooltips\": () => {\n      viewerInstance.visual.clearTooltips();\n    }\n  };\n\n  let combinedCallbacks = Object.assign(\n    {},\n    callbacksLoadComplete,\n    otherCallbacks\n  );\n\n  viewerInstance.events.loadComplete.subscribe(() => {\n    // trigger callabacks which need to be called after loading\n    Object.values(callbacksLoadComplete).forEach((callback) => callback());\n  });\n\n  // subscribe to events and collect unsubscribe funcs\n  let unsubscribes = Object.entries(combinedCallbacks).map(([name, callback]) =>\n    subscribe(model, name, callback)\n  );\n\n  document.addEventListener(\"PDB.molstar.mouseover\", (e) => {\n    const eventData = e.eventData;\n    model.set(\"mouseover_event\", eventData);\n    model.save_changes();\n  });\n\n  document.addEventListener(\"PDB.molstar.mouseout\", (e) => {\n    model.set(\"mouseout_event\", !model.get(\"mouseout_event\") );\n    model.save_changes();\n  });\n\n  document.addEventListener(\"PDB.molstar.click\", (e) => {\n    const eventData = e.eventData;\n    model.set(\"click_event\", eventData);\n    model.save_changes();\n  });\n\n  return () => {\n    unsubscribes.forEach((unsubscribe) => unsubscribe());\n  };\n}\n\nexport default { render };\n",
       "_focus": null,
       "_model_module": "anywidget",
       "_model_module_version": "~0.9.*",
       "_model_name": "AnyModel",
       "_reset": null,
       "_set_color": null,
       "_update": null,
       "_view_module": "anywidget",
       "_view_module_version": "~0.9.*",
       "_view_name": "AnyView",
       "alphafold_view": false,
       "assembly_id": "",
       "bg_color": "#F7F7F7",
       "click_event": {},
       "click_focus": true,
       "color_data": {
        "data": [
         {
          "representation": "gaussian-surface",
          "representationColor": "#ff00ff",
          "struct_asym_id": "D"
         }
        ],
        "keepColors": true,
        "keepRepresentations": false
       },
       "custom_data": null,
       "default_preset": "default",
       "domain_annotation": false,
       "encoding": "bcif",
       "expanded": false,
       "granularity": "residue",
       "height": "500px",
       "hide_animation_icon": false,
       "hide_carbs": false,
       "hide_coarse": false,
       "hide_controls": true,
       "hide_controls_icon": false,
       "hide_expand_icon": false,
       "hide_heteroatoms": false,
       "hide_non_standard": false,
       "hide_polymer": false,
       "hide_selection_icon": false,
       "hide_settings_icon": false,
       "hide_water": true,
       "highlight": null,
       "highlight_color": "#FF6699",
       "landscape": false,
       "layout": "IPY_MODEL_d5bb03624db840f88d5d6d8bc58ac211",
       "ligand_view": null,
       "lighting": "glossy",
       "load_maps": false,
       "loading_overlay": false,
       "low_precision_coords": false,
       "map_settings": null,
       "molecule_id": "1qyn",
       "mouseout_event": true,
       "mouseover_event": {},
       "pdbe_link": true,
       "pdbe_url": "https://www.ebi.ac.uk/pdbe/",
       "reactive": false,
       "select_color": "#33FF19",
       "select_interaction": true,
       "sequence_panel": false,
       "spin": false,
       "subscribe_events": false,
       "superposition": false,
       "superposition_params": null,
       "symmetry_annotation": false,
       "tooltips": {
        "data": [
         {
          "struct_asym_id": "A",
          "tooltip": "Custom tooltip for chain A"
         },
         {
          "struct_asym_id": "B",
          "tooltip": "Custom tooltip for chain B"
         },
         {
          "struct_asym_id": "C",
          "tooltip": "Custom tooltip for chain C"
         },
         {
          "struct_asym_id": "D",
          "tooltip": "Custom tooltip for chain D"
         }
        ]
       },
       "validation_annotation": false,
       "visual_style": "cartoon",
       "width": "100%"
      }
     },
     "7ecb8a7cebb64d20b0878441a1ab198a": {
      "model_module": "anywidget",
      "model_module_version": "~0.9.*",
      "model_name": "AnyModel",
      "state": {
       "_anywidget_id": "ipymolstar.widget.PDBeMolstar",
       "_args": {},
       "_clear_highlight": false,
       "_clear_selection": false,
       "_clear_tooltips": false,
       "_css": "@import url('https://cdn.jsdelivr.net/npm/pdbe-molstar@3.2.0/build/pdbe-molstar-light.css');",
       "_esm": "import \"https://cdn.jsdelivr.net/npm/pdbe-molstar@3.2.0/build/pdbe-molstar-plugin.js\";\n\nfunction standardize_color(str) {\n  var ctx = document.createElement(\"canvas\").getContext(\"2d\");\n  ctx.fillStyle = str;\n  return ctx.fillStyle;\n}\nfunction toRgb(color) {\n  var hex = standardize_color(color);\n  var result = /^#?([a-f\\d]{2})([a-f\\d]{2})([a-f\\d]{2})$/i.exec(hex);\n  return result\n    ? {\n        r: parseInt(result[1], 16),\n        g: parseInt(result[2], 16),\n        b: parseInt(result[3], 16),\n      }\n    : null;\n}\n\nfunction getHideStructure(model) {\n  var hideStructure = [];\n\n  if (model.get(\"hide_polymer\")) {\n    hideStructure.push(\"polymer\");\n  }\n  if (model.get(\"hide_water\")) {\n    hideStructure.push(\"water\");\n  }\n  if (model.get(\"hide_heteroatoms\")) {\n    hideStructure.push(\"het\");\n  }\n  if (model.get(\"hide_carbs\")) {\n    hideStructure.push(\"carbs\");\n  }\n  if (model.get(\"hide_non_standard\")) {\n    hideStructure.push(\"nonStandard\");\n  }\n  if (model.get(\"hide_coarse\")) {\n    hideStructure.push(\"coarse\");\n  }\n\n  return hideStructure;\n}\n\nfunction getVisibility(model) {\n  var visibility = {\n    polymer: !model.get(\"hide_polymer\"),\n    het: !model.get(\"hide_heteroatoms\"),\n    water: !model.get(\"hide_water\"),\n    carbs: !model.get(\"hide_carbs\"),\n    // maps ?\n  };\n\n  return visibility;\n}\n\nfunction getHideCanvasControls(model) {\n  var hideCanvasControls = [];\n  if (model.get(\"hide_controls_icon\")) {\n    hideCanvasControls.push(\"controlToggle\");\n  }\n  if (model.get(\"hide_expand_icon\")) {\n    hideCanvasControls.push(\"expand\");\n  }\n  if (model.get(\"hide_settings_icon\")) {\n    hideCanvasControls.push(\"controlInfo\");\n  }\n  if (model.get(\"hide_selection_icon\")) {\n    hideCanvasControls.push(\"selection\");\n  }\n  if (model.get(\"hide_animation_icon\")) {\n    hideCanvasControls.push(\"animation\");\n  }\n\n  return hideCanvasControls;\n}\n\nfunction getCustomData(model) {\n  var customData = model.get(\"custom_data\");\n  \n  if (customData && 'data' in customData) {\n    var url = URL.createObjectURL(new Blob([customData.data]));\n    customData.url = url;\n    delete customData.data;\n  }\n\n  return customData;\n}\n\nconst EmptyFocusBindings = {\n  clickCenterFocus: { triggers: [], action: '', description: '' },\n  clickCenterFocusSelectMode: { triggers: [], action: '', description: '' },\n  clickResetCameraOnEmpty: { triggers: [], action: '', description: '' },\n  clickResetCameraOnEmptySelectMode: { triggers: [], action: '', description: '' }\n};\n\n\nfunction getOptions(model) {\n  var options = {\n    moleculeId: model.get(\"molecule_id\"),\n    customData: getCustomData(model),\n    assemblyId: model.get(\"assembly_id\"),\n    defaultPreset: model.get(\"default_preset\"),\n    ligandView: model.get(\"ligand_view\"),\n    alphafoldView: model.get(\"alphafold_view\"),\n    superposition: model.get(\"superposition\"),\n    superpositionParams: model.get(\"superposition_params\"),\n    visualStyle: model.get(\"visual_style\"),\n    loadMaps: model.get(\"load_maps\"),\n    bgColor: toRgb(model.get(\"bg_color\")),\n    selectColor: toRgb(model.get(\"select_color\")),\n    lighting: model.get(\"lighting\"),\n    validationAnnotation: model.get(\"validation_annotation\"),\n    symmetryAnnotation: model.get(\"symmetry_annotation\"),\n    pdbeUrl: model.get(\"pdbe_url\"),\n    encoding: model.get(\"encoding\"),\n    lowPrecisionCoords: model.get(\"low_precision_coords\"),\n    selectInteraction: model.get(\"select_interaction\"),\n    // selectBindings: EmptySelectBindings,\n    granularity: model.get(\"granularity\"),\n    subscribeEvents: model.get(\"subscribe_events\"),\n    hideControls: model.get(\"hide_controls\"),\n    hideCanvasControls: getHideCanvasControls(model),\n    sequencePanel: model.get(\"sequence_panel\"),\n    pdbeLink: model.get(\"pdbe_link\"),\n    loadingOverlay: model.get(\"loading_overlay\"),\n    expanded: model.get(\"expanded\"),\n    landscape: model.get(\"landscape\"),\n    reactive: model.get(\"reactive\"),\n  };\n\n  if (model.get('click_focus') == false) {\n      options.focusBindings = EmptyFocusBindings;\n  }\n\n  return options;\n}\n\nfunction subscribe(model, name, callback) {\n  model.on(name, callback);\n  return () => model.off(name, callback);\n}\n\nfunction render({ model, el }) {\n  let viewerContainer = document.createElement(\"div\");\n  viewerContainer.id = \"viewer_container\";\n\n  viewerContainer.style.height = model.get(\"height\");\n  viewerContainer.style.width = model.get(\"width\");\n\n  // Make the container responsive\n  viewerContainer.style.maxWidth = \"100%\";\n  viewerContainer.style.boxSizing = \"border-box\";\n\n  var viewerInstance = new window.PDBeMolstarPlugin();\n  viewerInstance.render(viewerContainer, getOptions(model)); //.then(() => {\n  el.appendChild(viewerContainer);\n\n  // callbacks to be called after loading is complete\n  let callbacksLoadComplete = {\n    \"change:spin\": () => viewerInstance.visual.toggleSpin(model.get(\"spin\")),\n    \"change:hide_polymer\": () => {\n      viewerInstance.visual.visibility({ polymer: !model.get(\"hide_polymer\") });\n    },\n    \"change:hide_water\": () => {\n      viewerInstance.visual.visibility({ water: !model.get(\"hide_water\") });\n    },\n    \"change:hide_heteroatoms\": () => {\n      viewerInstance.visual.visibility({ het: !model.get(\"hide_heteroatoms\") });\n    },\n    \"change:hide_carbs\": () => {\n      viewerInstance.visual.visibility({ carbs: !model.get(\"hide_carbs\") });\n    },\n    \"change:hide_non_standard\": () => {\n      viewerInstance.visual.visibility({\n        nonStandard: !model.get(\"hide_non_standard\"),\n      });\n    },\n    \"change:hide_coarse\": () => {\n      viewerInstance.visual.visibility({ coarse: !model.get(\"hide_coarse\") });\n    },\n    \"change:color_data\": () => {\n      const selectValue = model.get(\"color_data\");\n      if (selectValue !== null) {\n        viewerInstance.visual.select(selectValue);\n      }\n    },\n    \"change:highlight\": () => {\n      const highlightValue = model.get(\"highlight\");\n      if (highlightValue !== null) {\n      viewerInstance.visual.highlight(highlightValue);\n      }\n    },\n    \"change:highlight_color\": () => {\n      const highlightColorValue = model.get(\"highlight_color\");      \n      if (highlightColorValue !== null) {\n        viewerInstance.visual.setColor({ highlight: highlightColorValue });\n      }\n    },\n    \"change:tooltips\": () => {\n      const tooltipValue = model.get(\"tooltips\");\n      if (tooltipValue !== null) {\n        viewerInstance.visual.tooltips(tooltipValue);\n      }\n    },\n  };\n\n  let otherCallbacks = {\n    \"change:molecule_id\": () => {\n      viewerInstance.visual.update(getOptions(model), true);\n    },\n    \"change:custom_data\": () => {\n      viewerInstance.visual.update(getOptions(model), true);\n    },\n    \"change:visual_style\": () => {\n      viewerInstance.visual.update(getOptions(model), true);\n    },\n    \"change:expanded\": () => {\n      viewerInstance.canvas.toggleExpanded(model.get(\"expanded\"));\n    },\n    \"change:bg_color\": () => {\n      viewerInstance.canvas.setBgColor(toRgb(model.get(\"bg_color\")));\n    },\n    \"change:_reset\": () => {\n      const resetValue = model.get(\"_reset\");\n      if (resetValue !== null) {\n        viewerInstance.visual.reset(resetValue);\n      }\n    },\n    \"change:_clear_tooltips\": () => {\n      viewerInstance.visual.clearTooltips();\n    }\n  };\n\n  let combinedCallbacks = Object.assign(\n    {},\n    callbacksLoadComplete,\n    otherCallbacks\n  );\n\n  viewerInstance.events.loadComplete.subscribe(() => {\n    // trigger callabacks which need to be called after loading\n    Object.values(callbacksLoadComplete).forEach((callback) => callback());\n  });\n\n  // subscribe to events and collect unsubscribe funcs\n  let unsubscribes = Object.entries(combinedCallbacks).map(([name, callback]) =>\n    subscribe(model, name, callback)\n  );\n\n  document.addEventListener(\"PDB.molstar.mouseover\", (e) => {\n    const eventData = e.eventData;\n    model.set(\"mouseover_event\", eventData);\n    model.save_changes();\n  });\n\n  document.addEventListener(\"PDB.molstar.mouseout\", (e) => {\n    model.set(\"mouseout_event\", !model.get(\"mouseout_event\") );\n    model.save_changes();\n  });\n\n  document.addEventListener(\"PDB.molstar.click\", (e) => {\n    const eventData = e.eventData;\n    model.set(\"click_event\", eventData);\n    model.save_changes();\n  });\n\n  return () => {\n    unsubscribes.forEach((unsubscribe) => unsubscribe());\n  };\n}\n\nexport default { render };\n",
       "_focus": null,
       "_model_module": "anywidget",
       "_model_module_version": "~0.9.*",
       "_model_name": "AnyModel",
       "_reset": null,
       "_set_color": null,
       "_update": null,
       "_view_module": "anywidget",
       "_view_module_version": "~0.9.*",
       "_view_name": "AnyView",
       "alphafold_view": false,
       "assembly_id": "",
       "bg_color": "#F7F7F7",
       "click_event": {},
       "click_focus": true,
       "color_data": null,
       "custom_data": null,
       "default_preset": "default",
       "domain_annotation": false,
       "encoding": "bcif",
       "expanded": false,
       "granularity": "residue",
       "height": "500px",
       "hide_animation_icon": false,
       "hide_carbs": false,
       "hide_coarse": false,
       "hide_controls": true,
       "hide_controls_icon": false,
       "hide_expand_icon": false,
       "hide_heteroatoms": false,
       "hide_non_standard": false,
       "hide_polymer": false,
       "hide_selection_icon": false,
       "hide_settings_icon": false,
       "hide_water": true,
       "highlight": null,
       "highlight_color": "#FF6699",
       "landscape": false,
       "layout": "IPY_MODEL_4512cd38d44c4007b2645b45fc889961",
       "ligand_view": null,
       "lighting": null,
       "load_maps": false,
       "loading_overlay": false,
       "low_precision_coords": false,
       "map_settings": null,
       "molecule_id": "1qyn",
       "mouseout_event": true,
       "mouseover_event": {
        "alt_id": "",
        "atom_id": [
         "N"
        ],
        "auth_asym_id": "C",
        "auth_seq_id": 22,
        "comp_id": "SER",
        "entity_id": "1",
        "entry_id": "1QYN",
        "ins_code": "",
        "instance": "1_555",
        "label_asym_id": "C",
        "micro_het_comp_ids": [
         "SER"
        ],
        "model": 1,
        "residueNumber": 22,
        "seq_id": 22,
        "unp_accession": "P0AG86",
        "unp_seq_id": 22
       },
       "pdbe_link": true,
       "pdbe_url": "https://www.ebi.ac.uk/pdbe/",
       "reactive": false,
       "select_color": "#33FF19",
       "select_interaction": true,
       "sequence_panel": false,
       "spin": false,
       "subscribe_events": false,
       "superposition": false,
       "superposition_params": null,
       "symmetry_annotation": false,
       "tooltips": null,
       "validation_annotation": false,
       "visual_style": null,
       "width": "100%"
      }
     },
     "a2aa9775b0f64819bc92ee279a915c99": {
      "model_module": "anywidget",
      "model_module_version": "~0.9.*",
      "model_name": "AnyModel",
      "state": {
       "_anywidget_id": "ipymolstar.widget.PDBeMolstar",
       "_args": {},
       "_clear_highlight": false,
       "_clear_selection": false,
       "_clear_tooltips": false,
       "_css": "@import url('https://cdn.jsdelivr.net/npm/pdbe-molstar@3.2.0/build/pdbe-molstar-light.css');",
       "_esm": "import \"https://cdn.jsdelivr.net/npm/pdbe-molstar@3.2.0/build/pdbe-molstar-plugin.js\";\n\nfunction standardize_color(str) {\n  var ctx = document.createElement(\"canvas\").getContext(\"2d\");\n  ctx.fillStyle = str;\n  return ctx.fillStyle;\n}\nfunction toRgb(color) {\n  var hex = standardize_color(color);\n  var result = /^#?([a-f\\d]{2})([a-f\\d]{2})([a-f\\d]{2})$/i.exec(hex);\n  return result\n    ? {\n        r: parseInt(result[1], 16),\n        g: parseInt(result[2], 16),\n        b: parseInt(result[3], 16),\n      }\n    : null;\n}\n\nfunction getHideStructure(model) {\n  var hideStructure = [];\n\n  if (model.get(\"hide_polymer\")) {\n    hideStructure.push(\"polymer\");\n  }\n  if (model.get(\"hide_water\")) {\n    hideStructure.push(\"water\");\n  }\n  if (model.get(\"hide_heteroatoms\")) {\n    hideStructure.push(\"het\");\n  }\n  if (model.get(\"hide_carbs\")) {\n    hideStructure.push(\"carbs\");\n  }\n  if (model.get(\"hide_non_standard\")) {\n    hideStructure.push(\"nonStandard\");\n  }\n  if (model.get(\"hide_coarse\")) {\n    hideStructure.push(\"coarse\");\n  }\n\n  return hideStructure;\n}\n\nfunction getVisibility(model) {\n  var visibility = {\n    polymer: !model.get(\"hide_polymer\"),\n    het: !model.get(\"hide_heteroatoms\"),\n    water: !model.get(\"hide_water\"),\n    carbs: !model.get(\"hide_carbs\"),\n    // maps ?\n  };\n\n  return visibility;\n}\n\nfunction getHideCanvasControls(model) {\n  var hideCanvasControls = [];\n  if (model.get(\"hide_controls_icon\")) {\n    hideCanvasControls.push(\"controlToggle\");\n  }\n  if (model.get(\"hide_expand_icon\")) {\n    hideCanvasControls.push(\"expand\");\n  }\n  if (model.get(\"hide_settings_icon\")) {\n    hideCanvasControls.push(\"controlInfo\");\n  }\n  if (model.get(\"hide_selection_icon\")) {\n    hideCanvasControls.push(\"selection\");\n  }\n  if (model.get(\"hide_animation_icon\")) {\n    hideCanvasControls.push(\"animation\");\n  }\n\n  return hideCanvasControls;\n}\n\nfunction getCustomData(model) {\n  var customData = model.get(\"custom_data\");\n  \n  if (customData && 'data' in customData) {\n    var url = URL.createObjectURL(new Blob([customData.data]));\n    customData.url = url;\n    delete customData.data;\n  }\n\n  return customData;\n}\n\nconst EmptyFocusBindings = {\n  clickCenterFocus: { triggers: [], action: '', description: '' },\n  clickCenterFocusSelectMode: { triggers: [], action: '', description: '' },\n  clickResetCameraOnEmpty: { triggers: [], action: '', description: '' },\n  clickResetCameraOnEmptySelectMode: { triggers: [], action: '', description: '' }\n};\n\n\nfunction getOptions(model) {\n  var options = {\n    moleculeId: model.get(\"molecule_id\"),\n    customData: getCustomData(model),\n    assemblyId: model.get(\"assembly_id\"),\n    defaultPreset: model.get(\"default_preset\"),\n    ligandView: model.get(\"ligand_view\"),\n    alphafoldView: model.get(\"alphafold_view\"),\n    superposition: model.get(\"superposition\"),\n    superpositionParams: model.get(\"superposition_params\"),\n    visualStyle: model.get(\"visual_style\"),\n    loadMaps: model.get(\"load_maps\"),\n    bgColor: toRgb(model.get(\"bg_color\")),\n    selectColor: toRgb(model.get(\"select_color\")),\n    lighting: model.get(\"lighting\"),\n    validationAnnotation: model.get(\"validation_annotation\"),\n    symmetryAnnotation: model.get(\"symmetry_annotation\"),\n    pdbeUrl: model.get(\"pdbe_url\"),\n    encoding: model.get(\"encoding\"),\n    lowPrecisionCoords: model.get(\"low_precision_coords\"),\n    selectInteraction: model.get(\"select_interaction\"),\n    // selectBindings: EmptySelectBindings,\n    granularity: model.get(\"granularity\"),\n    subscribeEvents: model.get(\"subscribe_events\"),\n    hideControls: model.get(\"hide_controls\"),\n    hideCanvasControls: getHideCanvasControls(model),\n    sequencePanel: model.get(\"sequence_panel\"),\n    pdbeLink: model.get(\"pdbe_link\"),\n    loadingOverlay: model.get(\"loading_overlay\"),\n    expanded: model.get(\"expanded\"),\n    landscape: model.get(\"landscape\"),\n    reactive: model.get(\"reactive\"),\n  };\n\n  if (model.get('click_focus') == false) {\n      options.focusBindings = EmptyFocusBindings;\n  }\n\n  return options;\n}\n\nfunction subscribe(model, name, callback) {\n  model.on(name, callback);\n  return () => model.off(name, callback);\n}\n\nfunction render({ model, el }) {\n  let viewerContainer = document.createElement(\"div\");\n  viewerContainer.id = \"viewer_container\";\n\n  viewerContainer.style.height = model.get(\"height\");\n  viewerContainer.style.width = model.get(\"width\");\n\n  // Make the container responsive\n  viewerContainer.style.maxWidth = \"100%\";\n  viewerContainer.style.boxSizing = \"border-box\";\n\n  var viewerInstance = new window.PDBeMolstarPlugin();\n  viewerInstance.render(viewerContainer, getOptions(model)); //.then(() => {\n  el.appendChild(viewerContainer);\n\n  // callbacks to be called after loading is complete\n  let callbacksLoadComplete = {\n    \"change:spin\": () => viewerInstance.visual.toggleSpin(model.get(\"spin\")),\n    \"change:hide_polymer\": () => {\n      viewerInstance.visual.visibility({ polymer: !model.get(\"hide_polymer\") });\n    },\n    \"change:hide_water\": () => {\n      viewerInstance.visual.visibility({ water: !model.get(\"hide_water\") });\n    },\n    \"change:hide_heteroatoms\": () => {\n      viewerInstance.visual.visibility({ het: !model.get(\"hide_heteroatoms\") });\n    },\n    \"change:hide_carbs\": () => {\n      viewerInstance.visual.visibility({ carbs: !model.get(\"hide_carbs\") });\n    },\n    \"change:hide_non_standard\": () => {\n      viewerInstance.visual.visibility({\n        nonStandard: !model.get(\"hide_non_standard\"),\n      });\n    },\n    \"change:hide_coarse\": () => {\n      viewerInstance.visual.visibility({ coarse: !model.get(\"hide_coarse\") });\n    },\n    \"change:color_data\": () => {\n      const selectValue = model.get(\"color_data\");\n      if (selectValue !== null) {\n        viewerInstance.visual.select(selectValue);\n      }\n    },\n    \"change:highlight\": () => {\n      const highlightValue = model.get(\"highlight\");\n      if (highlightValue !== null) {\n      viewerInstance.visual.highlight(highlightValue);\n      }\n    },\n    \"change:highlight_color\": () => {\n      const highlightColorValue = model.get(\"highlight_color\");      \n      if (highlightColorValue !== null) {\n        viewerInstance.visual.setColor({ highlight: highlightColorValue });\n      }\n    },\n    \"change:tooltips\": () => {\n      const tooltipValue = model.get(\"tooltips\");\n      if (tooltipValue !== null) {\n        viewerInstance.visual.tooltips(tooltipValue);\n      }\n    },\n  };\n\n  let otherCallbacks = {\n    \"change:molecule_id\": () => {\n      viewerInstance.visual.update(getOptions(model), true);\n    },\n    \"change:custom_data\": () => {\n      viewerInstance.visual.update(getOptions(model), true);\n    },\n    \"change:visual_style\": () => {\n      viewerInstance.visual.update(getOptions(model), true);\n    },\n    \"change:expanded\": () => {\n      viewerInstance.canvas.toggleExpanded(model.get(\"expanded\"));\n    },\n    \"change:bg_color\": () => {\n      viewerInstance.canvas.setBgColor(toRgb(model.get(\"bg_color\")));\n    },\n    \"change:_reset\": () => {\n      const resetValue = model.get(\"_reset\");\n      if (resetValue !== null) {\n        viewerInstance.visual.reset(resetValue);\n      }\n    },\n    \"change:_clear_tooltips\": () => {\n      viewerInstance.visual.clearTooltips();\n    }\n  };\n\n  let combinedCallbacks = Object.assign(\n    {},\n    callbacksLoadComplete,\n    otherCallbacks\n  );\n\n  viewerInstance.events.loadComplete.subscribe(() => {\n    // trigger callabacks which need to be called after loading\n    Object.values(callbacksLoadComplete).forEach((callback) => callback());\n  });\n\n  // subscribe to events and collect unsubscribe funcs\n  let unsubscribes = Object.entries(combinedCallbacks).map(([name, callback]) =>\n    subscribe(model, name, callback)\n  );\n\n  document.addEventListener(\"PDB.molstar.mouseover\", (e) => {\n    const eventData = e.eventData;\n    model.set(\"mouseover_event\", eventData);\n    model.save_changes();\n  });\n\n  document.addEventListener(\"PDB.molstar.mouseout\", (e) => {\n    model.set(\"mouseout_event\", !model.get(\"mouseout_event\") );\n    model.save_changes();\n  });\n\n  document.addEventListener(\"PDB.molstar.click\", (e) => {\n    const eventData = e.eventData;\n    model.set(\"click_event\", eventData);\n    model.save_changes();\n  });\n\n  return () => {\n    unsubscribes.forEach((unsubscribe) => unsubscribe());\n  };\n}\n\nexport default { render };\n",
       "_focus": null,
       "_model_module": "anywidget",
       "_model_module_version": "~0.9.*",
       "_model_name": "AnyModel",
       "_reset": null,
       "_set_color": null,
       "_update": null,
       "_view_module": "anywidget",
       "_view_module_version": "~0.9.*",
       "_view_name": "AnyView",
       "alphafold_view": false,
       "assembly_id": "",
       "bg_color": "#F7F7F7",
       "click_event": {},
       "click_focus": true,
       "color_data": null,
       "custom_data": {
        "binary": true,
        "format": "cif",
        "url": "blob:http://localhost:8889/c9cf1dc5-32cd-4f1b-83c1-578104dd9047"
       },
       "default_preset": "default",
       "domain_annotation": false,
       "encoding": "bcif",
       "expanded": false,
       "granularity": "residue",
       "height": "500px",
       "hide_animation_icon": false,
       "hide_carbs": true,
       "hide_coarse": false,
       "hide_controls": true,
       "hide_controls_icon": false,
       "hide_expand_icon": false,
       "hide_heteroatoms": false,
       "hide_non_standard": false,
       "hide_polymer": false,
       "hide_selection_icon": false,
       "hide_settings_icon": false,
       "hide_water": true,
       "highlight": null,
       "highlight_color": "#FF6699",
       "landscape": false,
       "layout": "IPY_MODEL_cee9af4be637403ab59a320b2d7ab491",
       "ligand_view": null,
       "lighting": null,
       "load_maps": false,
       "loading_overlay": false,
       "low_precision_coords": false,
       "map_settings": null,
       "molecule_id": "",
       "mouseout_event": false,
       "mouseover_event": {},
       "pdbe_link": true,
       "pdbe_url": "https://www.ebi.ac.uk/pdbe/",
       "reactive": false,
       "select_color": "#33FF19",
       "select_interaction": true,
       "sequence_panel": false,
       "spin": false,
       "subscribe_events": false,
       "superposition": false,
       "superposition_params": null,
       "symmetry_annotation": false,
       "tooltips": null,
       "validation_annotation": false,
       "visual_style": null,
       "width": "100%"
      }
     },
     "ae0d7796c42045b692cac432d7637967": {
      "model_module": "anywidget",
      "model_module_version": "~0.9.*",
      "model_name": "AnyModel",
      "state": {
       "_anywidget_id": "ipymolstar.widget.PDBeMolstar",
       "_args": {},
       "_clear_highlight": false,
       "_clear_selection": false,
       "_clear_tooltips": false,
       "_css": "@import url('https://cdn.jsdelivr.net/npm/pdbe-molstar@3.2.0/build/pdbe-molstar-light.css');",
       "_esm": "import \"https://cdn.jsdelivr.net/npm/pdbe-molstar@3.2.0/build/pdbe-molstar-plugin.js\";\n\nfunction standardize_color(str) {\n  var ctx = document.createElement(\"canvas\").getContext(\"2d\");\n  ctx.fillStyle = str;\n  return ctx.fillStyle;\n}\nfunction toRgb(color) {\n  var hex = standardize_color(color);\n  var result = /^#?([a-f\\d]{2})([a-f\\d]{2})([a-f\\d]{2})$/i.exec(hex);\n  return result\n    ? {\n        r: parseInt(result[1], 16),\n        g: parseInt(result[2], 16),\n        b: parseInt(result[3], 16),\n      }\n    : null;\n}\n\nfunction getHideStructure(model) {\n  var hideStructure = [];\n\n  if (model.get(\"hide_polymer\")) {\n    hideStructure.push(\"polymer\");\n  }\n  if (model.get(\"hide_water\")) {\n    hideStructure.push(\"water\");\n  }\n  if (model.get(\"hide_heteroatoms\")) {\n    hideStructure.push(\"het\");\n  }\n  if (model.get(\"hide_carbs\")) {\n    hideStructure.push(\"carbs\");\n  }\n  if (model.get(\"hide_non_standard\")) {\n    hideStructure.push(\"nonStandard\");\n  }\n  if (model.get(\"hide_coarse\")) {\n    hideStructure.push(\"coarse\");\n  }\n\n  return hideStructure;\n}\n\nfunction getVisibility(model) {\n  var visibility = {\n    polymer: !model.get(\"hide_polymer\"),\n    het: !model.get(\"hide_heteroatoms\"),\n    water: !model.get(\"hide_water\"),\n    carbs: !model.get(\"hide_carbs\"),\n    // maps ?\n  };\n\n  return visibility;\n}\n\nfunction getHideCanvasControls(model) {\n  var hideCanvasControls = [];\n  if (model.get(\"hide_controls_icon\")) {\n    hideCanvasControls.push(\"controlToggle\");\n  }\n  if (model.get(\"hide_expand_icon\")) {\n    hideCanvasControls.push(\"expand\");\n  }\n  if (model.get(\"hide_settings_icon\")) {\n    hideCanvasControls.push(\"controlInfo\");\n  }\n  if (model.get(\"hide_selection_icon\")) {\n    hideCanvasControls.push(\"selection\");\n  }\n  if (model.get(\"hide_animation_icon\")) {\n    hideCanvasControls.push(\"animation\");\n  }\n\n  return hideCanvasControls;\n}\n\nfunction getCustomData(model) {\n  var customData = model.get(\"custom_data\");\n  \n  if (customData && 'data' in customData) {\n    var url = URL.createObjectURL(new Blob([customData.data]));\n    customData.url = url;\n    delete customData.data;\n  }\n\n  return customData;\n}\n\nconst EmptyFocusBindings = {\n  clickCenterFocus: { triggers: [], action: '', description: '' },\n  clickCenterFocusSelectMode: { triggers: [], action: '', description: '' },\n  clickResetCameraOnEmpty: { triggers: [], action: '', description: '' },\n  clickResetCameraOnEmptySelectMode: { triggers: [], action: '', description: '' }\n};\n\n\nfunction getOptions(model) {\n  var options = {\n    moleculeId: model.get(\"molecule_id\"),\n    customData: getCustomData(model),\n    assemblyId: model.get(\"assembly_id\"),\n    defaultPreset: model.get(\"default_preset\"),\n    ligandView: model.get(\"ligand_view\"),\n    alphafoldView: model.get(\"alphafold_view\"),\n    superposition: model.get(\"superposition\"),\n    superpositionParams: model.get(\"superposition_params\"),\n    visualStyle: model.get(\"visual_style\"),\n    loadMaps: model.get(\"load_maps\"),\n    bgColor: toRgb(model.get(\"bg_color\")),\n    selectColor: toRgb(model.get(\"select_color\")),\n    lighting: model.get(\"lighting\"),\n    validationAnnotation: model.get(\"validation_annotation\"),\n    symmetryAnnotation: model.get(\"symmetry_annotation\"),\n    pdbeUrl: model.get(\"pdbe_url\"),\n    encoding: model.get(\"encoding\"),\n    lowPrecisionCoords: model.get(\"low_precision_coords\"),\n    selectInteraction: model.get(\"select_interaction\"),\n    // selectBindings: EmptySelectBindings,\n    granularity: model.get(\"granularity\"),\n    subscribeEvents: model.get(\"subscribe_events\"),\n    hideControls: model.get(\"hide_controls\"),\n    hideCanvasControls: getHideCanvasControls(model),\n    sequencePanel: model.get(\"sequence_panel\"),\n    pdbeLink: model.get(\"pdbe_link\"),\n    loadingOverlay: model.get(\"loading_overlay\"),\n    expanded: model.get(\"expanded\"),\n    landscape: model.get(\"landscape\"),\n    reactive: model.get(\"reactive\"),\n  };\n\n  if (model.get('click_focus') == false) {\n      options.focusBindings = EmptyFocusBindings;\n  }\n\n  return options;\n}\n\nfunction subscribe(model, name, callback) {\n  model.on(name, callback);\n  return () => model.off(name, callback);\n}\n\nfunction render({ model, el }) {\n  let viewerContainer = document.createElement(\"div\");\n  viewerContainer.id = \"viewer_container\";\n\n  viewerContainer.style.height = model.get(\"height\");\n  viewerContainer.style.width = model.get(\"width\");\n\n  // Make the container responsive\n  viewerContainer.style.maxWidth = \"100%\";\n  viewerContainer.style.boxSizing = \"border-box\";\n\n  var viewerInstance = new window.PDBeMolstarPlugin();\n  viewerInstance.render(viewerContainer, getOptions(model)); //.then(() => {\n  el.appendChild(viewerContainer);\n\n  // callbacks to be called after loading is complete\n  let callbacksLoadComplete = {\n    \"change:spin\": () => viewerInstance.visual.toggleSpin(model.get(\"spin\")),\n    \"change:hide_polymer\": () => {\n      viewerInstance.visual.visibility({ polymer: !model.get(\"hide_polymer\") });\n    },\n    \"change:hide_water\": () => {\n      viewerInstance.visual.visibility({ water: !model.get(\"hide_water\") });\n    },\n    \"change:hide_heteroatoms\": () => {\n      viewerInstance.visual.visibility({ het: !model.get(\"hide_heteroatoms\") });\n    },\n    \"change:hide_carbs\": () => {\n      viewerInstance.visual.visibility({ carbs: !model.get(\"hide_carbs\") });\n    },\n    \"change:hide_non_standard\": () => {\n      viewerInstance.visual.visibility({\n        nonStandard: !model.get(\"hide_non_standard\"),\n      });\n    },\n    \"change:hide_coarse\": () => {\n      viewerInstance.visual.visibility({ coarse: !model.get(\"hide_coarse\") });\n    },\n    \"change:color_data\": () => {\n      const selectValue = model.get(\"color_data\");\n      if (selectValue !== null) {\n        viewerInstance.visual.select(selectValue);\n      }\n    },\n    \"change:highlight\": () => {\n      const highlightValue = model.get(\"highlight\");\n      if (highlightValue !== null) {\n      viewerInstance.visual.highlight(highlightValue);\n      }\n    },\n    \"change:highlight_color\": () => {\n      const highlightColorValue = model.get(\"highlight_color\");      \n      if (highlightColorValue !== null) {\n        viewerInstance.visual.setColor({ highlight: highlightColorValue });\n      }\n    },\n    \"change:tooltips\": () => {\n      const tooltipValue = model.get(\"tooltips\");\n      if (tooltipValue !== null) {\n        viewerInstance.visual.tooltips(tooltipValue);\n      }\n    },\n  };\n\n  let otherCallbacks = {\n    \"change:molecule_id\": () => {\n      viewerInstance.visual.update(getOptions(model), true);\n    },\n    \"change:custom_data\": () => {\n      viewerInstance.visual.update(getOptions(model), true);\n    },\n    \"change:visual_style\": () => {\n      viewerInstance.visual.update(getOptions(model), true);\n    },\n    \"change:expanded\": () => {\n      viewerInstance.canvas.toggleExpanded(model.get(\"expanded\"));\n    },\n    \"change:bg_color\": () => {\n      viewerInstance.canvas.setBgColor(toRgb(model.get(\"bg_color\")));\n    },\n    \"change:_reset\": () => {\n      const resetValue = model.get(\"_reset\");\n      if (resetValue !== null) {\n        viewerInstance.visual.reset(resetValue);\n      }\n    },\n    \"change:_clear_tooltips\": () => {\n      viewerInstance.visual.clearTooltips();\n    }\n  };\n\n  let combinedCallbacks = Object.assign(\n    {},\n    callbacksLoadComplete,\n    otherCallbacks\n  );\n\n  viewerInstance.events.loadComplete.subscribe(() => {\n    // trigger callabacks which need to be called after loading\n    Object.values(callbacksLoadComplete).forEach((callback) => callback());\n  });\n\n  // subscribe to events and collect unsubscribe funcs\n  let unsubscribes = Object.entries(combinedCallbacks).map(([name, callback]) =>\n    subscribe(model, name, callback)\n  );\n\n  document.addEventListener(\"PDB.molstar.mouseover\", (e) => {\n    const eventData = e.eventData;\n    model.set(\"mouseover_event\", eventData);\n    model.save_changes();\n  });\n\n  document.addEventListener(\"PDB.molstar.mouseout\", (e) => {\n    model.set(\"mouseout_event\", !model.get(\"mouseout_event\") );\n    model.save_changes();\n  });\n\n  document.addEventListener(\"PDB.molstar.click\", (e) => {\n    const eventData = e.eventData;\n    model.set(\"click_event\", eventData);\n    model.save_changes();\n  });\n\n  return () => {\n    unsubscribes.forEach((unsubscribe) => unsubscribe());\n  };\n}\n\nexport default { render };\n",
       "_focus": null,
       "_model_module": "anywidget",
       "_model_module_version": "~0.9.*",
       "_model_name": "AnyModel",
       "_reset": null,
       "_set_color": null,
       "_update": null,
       "_view_module": "anywidget",
       "_view_module_version": "~0.9.*",
       "_view_name": "AnyView",
       "alphafold_view": false,
       "assembly_id": "",
       "bg_color": "#F7F7F7",
       "click_event": {},
       "click_focus": true,
       "color_data": {
        "data": [
         {
          "color": {
           "b": 0,
           "g": 255,
           "r": 255
          },
          "focus": false,
          "struct_asym_id": "C"
         }
        ],
        "keepColors": true,
        "nonSelectedColor": null
       },
       "custom_data": null,
       "default_preset": "default",
       "domain_annotation": false,
       "encoding": "bcif",
       "expanded": false,
       "granularity": "residue",
       "height": "500px",
       "hide_animation_icon": false,
       "hide_carbs": false,
       "hide_coarse": false,
       "hide_controls": true,
       "hide_controls_icon": false,
       "hide_expand_icon": false,
       "hide_heteroatoms": false,
       "hide_non_standard": false,
       "hide_polymer": false,
       "hide_selection_icon": false,
       "hide_settings_icon": false,
       "hide_water": true,
       "highlight": null,
       "highlight_color": "#FF6699",
       "landscape": false,
       "layout": "IPY_MODEL_f9d6d82b44dc4598ba9564e10dc35f7d",
       "ligand_view": null,
       "lighting": "glossy",
       "load_maps": false,
       "loading_overlay": false,
       "low_precision_coords": false,
       "map_settings": null,
       "molecule_id": "1qyn",
       "mouseout_event": true,
       "mouseover_event": {
        "alt_id": "",
        "atom_id": [
         "N"
        ],
        "auth_asym_id": "C",
        "auth_seq_id": 22,
        "comp_id": "SER",
        "entity_id": "1",
        "entry_id": "1QYN",
        "ins_code": "",
        "instance": "1_555",
        "label_asym_id": "C",
        "micro_het_comp_ids": [
         "SER"
        ],
        "model": 1,
        "residueNumber": 22,
        "seq_id": 22,
        "unp_accession": "P0AG86",
        "unp_seq_id": 22
       },
       "pdbe_link": true,
       "pdbe_url": "https://www.ebi.ac.uk/pdbe/",
       "reactive": false,
       "select_color": "#33FF19",
       "select_interaction": true,
       "sequence_panel": false,
       "spin": false,
       "subscribe_events": false,
       "superposition": false,
       "superposition_params": null,
       "symmetry_annotation": false,
       "tooltips": {
        "data": [
         {
          "struct_asym_id": "A",
          "tooltip": "Custom tooltip for chain A"
         },
         {
          "struct_asym_id": "B",
          "tooltip": "Custom tooltip for chain B"
         },
         {
          "struct_asym_id": "C",
          "tooltip": "Custom tooltip for chain C"
         },
         {
          "struct_asym_id": "D",
          "tooltip": "Custom tooltip for chain D"
         }
        ]
       },
       "validation_annotation": false,
       "visual_style": "cartoon",
       "width": "100%"
      }
     },
     "cee9af4be637403ab59a320b2d7ab491": {
      "model_module": "@jupyter-widgets/base",
      "model_module_version": "2.0.0",
      "model_name": "LayoutModel",
      "state": {}
     },
     "d5bb03624db840f88d5d6d8bc58ac211": {
      "model_module": "@jupyter-widgets/base",
      "model_module_version": "2.0.0",
      "model_name": "LayoutModel",
      "state": {}
     },
     "f9d6d82b44dc4598ba9564e10dc35f7d": {
      "model_module": "@jupyter-widgets/base",
      "model_module_version": "2.0.0",
      "model_name": "LayoutModel",
      "state": {}
     }
    },
    "version_major": 2,
    "version_minor": 0
   }
  }
 },
 "nbformat": 4,
 "nbformat_minor": 4
}
