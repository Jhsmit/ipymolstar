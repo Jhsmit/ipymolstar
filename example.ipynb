{
 "cells": [
  {
   "cell_type": "code",
   "execution_count": null,
   "metadata": {},
   "outputs": [],
   "source": [
    "from ipymolstar import PDBeMolstar"
   ]
  },
  {
   "cell_type": "code",
   "execution_count": null,
   "metadata": {},
   "outputs": [],
   "source": [
    "view = PDBeMolstar(\n",
    "    molecule_id=\"1qyn\",\n",
    "    theme=\"light\",\n",
    "    hide_water=True,\n",
    "    visual_style=\"cartoon\",\n",
    ")\n",
    "\n",
    "view\n"
   ]
  },
  {
   "cell_type": "code",
   "execution_count": null,
   "metadata": {},
   "outputs": [],
   "source": [
    "# interact from python with the view; turn on spin\n",
    "view.spin = True\n"
   ]
  },
  {
   "cell_type": "code",
   "execution_count": null,
   "metadata": {},
   "outputs": [],
   "source": [
    "# focus on a section of residues\n",
    "view.spin = False\n",
    "data = [\n",
    "    {\n",
    "        \"entity_id\": \"1\",\n",
    "        \"struct_asym_id\": \"A\",\n",
    "        \"start_residue_number\": 10,\n",
    "        \"end_residue_number\": 15,\n",
    "    }\n",
    "]\n",
    "\n",
    "view.focus(data)\n"
   ]
  },
  {
   "cell_type": "code",
   "execution_count": null,
   "metadata": {},
   "outputs": [],
   "source": [
    "# hightlight the residues\n",
    "data_dict = {\n",
    "    \"data\": [\n",
    "        {\n",
    "            \"entity_id\": \"1\",\n",
    "            \"struct_asym_id\": \"A\",\n",
    "            \"start_residue_number\": 10,\n",
    "            \"end_residue_number\": 15,\n",
    "        }\n",
    "    ]\n",
    "}\n",
    "\n",
    "view.highlight(data_dict)\n"
   ]
  },
  {
   "cell_type": "code",
   "execution_count": null,
   "metadata": {},
   "outputs": [],
   "source": [
    "# clear highlight\n",
    "view.clear_highlight()\n"
   ]
  },
  {
   "cell_type": "code",
   "execution_count": null,
   "metadata": {},
   "outputs": [],
   "source": [
    "# color residues\n",
    "data = [\n",
    "    {\n",
    "        \"start_residue_number\": 0,\n",
    "        \"end_residue_number\": 153,\n",
    "        \"struct_asym_id\": \"A\",\n",
    "        \"color\": {\"r\": 100, \"g\": 150, \"b\": 120},\n",
    "        \"focus\": False,\n",
    "    },\n",
    "    {\n",
    "        \"start_residue_number\": 30,\n",
    "        \"end_residue_number\": 153,\n",
    "        \"struct_asym_id\": \"B\",\n",
    "        \"color\": {\"r\": 213, \"g\": 52, \"b\": 235},\n",
    "        \"focus\": False,\n",
    "    },\n",
    "]\n",
    "view.color(data, non_selected_color={\"r\": 0, \"g\": 87, \"b\": 0})\n"
   ]
  },
  {
   "cell_type": "code",
   "execution_count": null,
   "metadata": {},
   "outputs": [],
   "source": [
    "# color residue by residue number, independent of chain\n",
    "\n",
    "from matplotlib.colors import Normalize\n",
    "from matplotlib import colormaps\n",
    "\n",
    "# note that the pdbe molstar widget will revert do default colors if you attempt\n",
    "# to color outside of the residue range in the model\n",
    "residue_range = (10, 150)\n",
    "norm = Normalize(vmin=residue_range[0], vmax=residue_range[1])\n",
    "\n",
    "cmap = colormaps[\"inferno\"]\n",
    "data = []\n",
    "for i in range(residue_range[0], residue_range[1]):\n",
    "    r, g, b, a = cmap(norm(i), bytes=True)\n",
    "    color = {\"r\": r, \"g\": g, \"b\": b}\n",
    "    elem = {\n",
    "        \"start_residue_number\": i,\n",
    "        \"end_residue_number\": i + 1,\n",
    "        \"color\": color,\n",
    "        \"focus\": False,\n",
    "    }\n",
    "    data.append(elem)\n",
    "\n",
    "view.color(data, non_selected_color={\"r\": 87, \"g\": 87, \"b\": 87})\n"
   ]
  },
  {
   "cell_type": "markdown",
   "metadata": {},
   "source": [
    "ipymolstar implements most of the PDBeMolstar options and functions. \n",
    "See the pdbe molstar wiki for details ([options](https://github.com/molstar/pdbe-molstar/wiki/1.-PDBe-Molstar-as-JS-plugin), [methods](https://github.com/molstar/pdbe-molstar/wiki/3.-Helper-Methods))\n",
    "\n",
    "Not all of these are tested. "
   ]
  },
  {
   "cell_type": "code",
   "execution_count": null,
   "metadata": {},
   "outputs": [],
   "source": [
    "data = [\n",
    "    {\n",
    "        \"start_residue_number\": 0,\n",
    "        \"end_residue_number\": 200,\n",
    "        \"struct_asym_id\": \"A\",\n",
    "        \"color\": {\"r\": 100, \"g\": 150, \"b\": 120},\n",
    "        \"focus\": False,\n",
    "    },\n",
    "    {\n",
    "        \"start_residue_number\": 30,\n",
    "        \"end_residue_number\": 190,\n",
    "        \"struct_asym_id\": \"B\",\n",
    "        \"color\": {\"r\": 213, \"g\": 52, \"b\": 235},\n",
    "        \"focus\": False,\n",
    "    },\n",
    "]\n",
    "view.color(data, non_selected_color={\"r\": 0, \"g\": 87, \"b\": 0})\n"
   ]
  },
  {
   "cell_type": "code",
   "execution_count": null,
   "metadata": {},
   "outputs": [],
   "source": [
    "# available options / methods on PDBEMolstar\n",
    "from anywidget import AnyWidget\n",
    "\n",
    "[\n",
    "    x\n",
    "    for x in sorted(set(dir(PDBeMolstar)) - set(dir(AnyWidget)))\n",
    "    if not x.startswith(\"_\")\n",
    "]\n"
   ]
  }
 ],
 "metadata": {
  "kernelspec": {
   "display_name": "Python 3 (ipykernel)",
   "language": "python",
   "name": "python3"
  },
  "language_info": {
   "codemirror_mode": {
    "name": "ipython",
    "version": 3
   },
   "file_extension": ".py",
   "mimetype": "text/x-python",
   "name": "python",
   "nbconvert_exporter": "python",
   "pygments_lexer": "ipython3",
   "version": "3.10.13"
  }
 },
 "nbformat": 4,
 "nbformat_minor": 4
}
