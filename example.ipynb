{
 "cells": [
  {
   "cell_type": "code",
   "execution_count": null,
   "metadata": {},
   "outputs": [],
   "source": [
    "from ipymolstar import PDBeMolstar"
   ]
  },
  {
   "cell_type": "code",
   "execution_count": null,
   "metadata": {},
   "outputs": [],
   "source": [
    "view = PDBeMolstar(\n",
    "    molecule_id=\"1qyn\",\n",
    "    theme=\"light\",\n",
    "    hide_water=True,\n",
    "    visual_style=\"cartoon\",\n",
    "    spin=False,\n",
    "    lighting='glossy',\n",
    ")\n",
    "\n",
    "view.tooltips = { 'data': [\n",
    "                        { 'struct_asym_id': 'A', 'tooltip': 'Custom tooltip for chain A' }, \n",
    "                        { 'struct_asym_id': 'B', 'tooltip': 'Custom tooltip for chain B' }, \n",
    "                        { 'struct_asym_id': 'C', 'tooltip': 'Custom tooltip for chain C' }, \n",
    "                        { 'struct_asym_id': 'D', 'tooltip': 'Custom tooltip for chain D' }, \n",
    "                    ] }\n",
    "\n",
    "view"
   ]
  },
  {
   "cell_type": "code",
   "execution_count": null,
   "metadata": {},
   "outputs": [],
   "source": [
    "view.clear_tooltips()"
   ]
  },
  {
   "cell_type": "code",
   "execution_count": null,
   "metadata": {},
   "outputs": [],
   "source": [
    "# color residues\n",
    "data = [\n",
    "    {\n",
    "        \"start_residue_number\": 0,\n",
    "        \"end_residue_number\": 153,\n",
    "        \"struct_asym_id\": \"A\",\n",
    "        \"color\": {\"r\": 100, \"g\": 150, \"b\": 120},\n",
    "        \"focus\": False,\n",
    "    },\n",
    "    {\n",
    "        \"start_residue_number\": 30,\n",
    "        \"end_residue_number\": 153,\n",
    "        \"struct_asym_id\": \"B\",\n",
    "        \"color\": {\"r\": 213, \"g\": 52, \"b\": 235},\n",
    "        \"focus\": False,\n",
    "    },\n",
    "]\n",
    "\n",
    "view.color(data, non_selected_color={\"r\": 0, \"g\": 87, \"b\": 0})"
   ]
  },
  {
   "cell_type": "code",
   "execution_count": null,
   "metadata": {},
   "outputs": [],
   "source": [
    "# color residues, keep previous coloring\n",
    "data = [\n",
    "    {\n",
    "        \"struct_asym_id\": \"C\",\n",
    "        \"color\": {\"r\": 255, \"g\": 255, \"b\": 0},\n",
    "        \"focus\": False,\n",
    "    },\n",
    "]\n",
    "\n",
    "color_data = {\n",
    "     'data': data, \n",
    "     \"nonSelectedColor\": None,\n",
    "    \"keepColors\": True\n",
    "}\n",
    "view.color_data = color_data"
   ]
  },
  {
   "cell_type": "code",
   "execution_count": null,
   "metadata": {},
   "outputs": [],
   "source": [
    "# keep current colors, change representation of chain D\n",
    "data = [\n",
    "    {\"struct_asym_id\": \"D\",'representation': 'gaussian-surface', 'representationColor': '#ff00ff'}\n",
    "]\n",
    "color_data = {'data': data, \"keepColors\": True, 'keepRepresentations': False}\n",
    "view.color_data = color_data"
   ]
  },
  {
   "cell_type": "code",
   "execution_count": null,
   "metadata": {},
   "outputs": [],
   "source": [
    "# load local files via custom_data\n",
    "from pathlib import Path \n",
    "fpth = Path().resolve() / 'assets' / '6vsb.bcif'\n",
    "custom_data = {\n",
    "    'data': fpth.read_bytes(),\n",
    "    'format': 'cif',\n",
    "    'binary': True,\n",
    "    }\n",
    "view = PDBeMolstar(\n",
    "    custom_data=custom_data, \n",
    "    hide_water=True,\n",
    "    hide_carbs=True,\n",
    ")\n",
    "view"
   ]
  },
  {
   "cell_type": "code",
   "execution_count": null,
   "metadata": {},
   "outputs": [],
   "source": [
    "# interact from python with the view; turn off spin\n",
    "view.spin = False"
   ]
  },
  {
   "cell_type": "code",
   "execution_count": null,
   "metadata": {},
   "outputs": [],
   "source": [
    "# focus on a section of residues\n",
    "view.spin = False\n",
    "data = [\n",
    "    {\n",
    "        \"entity_id\": \"1\",\n",
    "        \"struct_asym_id\": \"A\",\n",
    "        \"start_residue_number\": 10,\n",
    "        \"end_residue_number\": 15,\n",
    "    }\n",
    "]\n",
    "\n",
    "view.focus(data)"
   ]
  },
  {
   "cell_type": "code",
   "execution_count": null,
   "metadata": {},
   "outputs": [],
   "source": [
    "# hightlight the residues\n",
    "data_dict = {\n",
    "    \"data\": [\n",
    "        {\n",
    "            \"entity_id\": \"1\",\n",
    "            \"struct_asym_id\": \"A\",\n",
    "            \"start_residue_number\": 10,\n",
    "            \"end_residue_number\": 15,\n",
    "        }\n",
    "    ]\n",
    "}\n",
    "\n",
    "view.highlight(data_dict)"
   ]
  },
  {
   "cell_type": "code",
   "execution_count": null,
   "metadata": {},
   "outputs": [],
   "source": [
    "# clear highlight\n",
    "view.clear_highlight()"
   ]
  },
  {
   "cell_type": "code",
   "execution_count": null,
   "metadata": {},
   "outputs": [],
   "source": [
    "# color residue by residue number, independent of chain\n",
    "\n",
    "from matplotlib.colors import Normalize\n",
    "from matplotlib import colormaps\n",
    "\n",
    "# note that the pdbe molstar widget will revert do default colors if you attempt\n",
    "# to color outside of the residue range in the model\n",
    "residue_range = (10, 150)\n",
    "norm = Normalize(vmin=residue_range[0], vmax=residue_range[1])\n",
    "\n",
    "cmap = colormaps[\"viridis\"]\n",
    "data = []\n",
    "for i in range(residue_range[0], residue_range[1]):\n",
    "    r, g, b, a = cmap(norm(i), bytes=True)\n",
    "    color = {\"r\": int(r), \"g\": int(g), \"b\": int(b)}\n",
    "    elem = {\n",
    "        \"start_residue_number\": i,\n",
    "        \"end_residue_number\": i + 1,\n",
    "        \"color\": color,\n",
    "        \"focus\": False,\n",
    "    }\n",
    "    data.append(elem)\n",
    "\n",
    "view.color(data, non_selected_color={\"r\": 87, \"g\": 87, \"b\": 87})"
   ]
  },
  {
   "cell_type": "markdown",
   "metadata": {},
   "source": [
    "ipymolstar implements most of the PDBeMolstar options and functions.\n",
    "See the pdbe molstar wiki for details ([options](https://github.com/molstar/pdbe-molstar/wiki/1.-PDBe-Molstar-as-JS-plugin#plugin-parameters-options), [methods](https://github.com/molstar/pdbe-molstar/wiki/3.-Helper-Methods))\n",
    "\n",
    "Not all of these are tested.\n"
   ]
  },
  {
   "cell_type": "code",
   "execution_count": null,
   "metadata": {},
   "outputs": [],
   "source": [
    "# available options / methods on PDBEMolstar\n",
    "from anywidget import AnyWidget\n",
    "\n",
    "[\n",
    "    x\n",
    "    for x in sorted(set(dir(PDBeMolstar)) - set(dir(AnyWidget)))\n",
    "    if not x.startswith(\"_\")\n",
    "]"
   ]
  }
 ],
 "metadata": {
  "kernelspec": {
   "display_name": "Python 3 (ipykernel)",
   "language": "python",
   "name": "python3"
  },
  "language_info": {
   "codemirror_mode": {
    "name": "ipython",
    "version": 3
   },
   "file_extension": ".py",
   "mimetype": "text/x-python",
   "name": "python",
   "nbconvert_exporter": "python",
   "pygments_lexer": "ipython3",
   "version": "3.10.13"
  }
 },
 "nbformat": 4,
 "nbformat_minor": 4
}
