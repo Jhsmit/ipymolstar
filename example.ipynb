{
 "cells": [
  {
   "cell_type": "code",
   "execution_count": 2,
   "metadata": {},
   "outputs": [
    {
     "data": {
      "application/vnd.jupyter.widget-view+json": {
       "model_id": "e372fdbd91934f4b973c43d1c7a1eb5a",
       "version_major": 2,
       "version_minor": 0
      },
      "text/plain": [
       "PDBeMolstar(molecule_id='1onf')"
      ]
     },
     "execution_count": 2,
     "metadata": {},
     "output_type": "execute_result"
    }
   ],
   "source": [
    "from ipymolstar import PDBeMolstar\n",
    "import pathlib\n",
    "import anywidget\n",
    "import traitlets\n",
    "\n",
    "c = PDBeMolstar(molecule_id='1onf')\n",
    "c"
   ]
  },
  {
   "cell_type": "code",
   "execution_count": null,
   "metadata": {},
   "outputs": [],
   "source": [
    "\t\tmoleculeId: model.get('molecule_id')"
   ]
  },
  {
   "cell_type": "code",
   "execution_count": null,
   "metadata": {},
   "outputs": [],
   "source": []
  },
  {
   "cell_type": "code",
   "execution_count": 90,
   "metadata": {},
   "outputs": [
    {
     "name": "stdout",
     "output_type": "stream",
     "text": [
      "@import url('https://www.ebi.ac.uk/pdbe/pdb-component-library/css/pdbe-molstar-light-3.1.3.css');\n",
      "\n"
     ]
    },
    {
     "data": {
      "application/vnd.jupyter.widget-view+json": {
       "model_id": "c52928444c8840f1b178d284843f787c",
       "version_major": 2,
       "version_minor": 0
      },
      "text/plain": [
       "PDBeMolstar(custom_data={'url': 'http://localhost:8888/files/assets/1qyn.pdb?_xsrf=2%7Cc1810e12%7C8a144937b5ea…"
      ]
     },
     "execution_count": 90,
     "metadata": {},
     "output_type": "execute_result"
    }
   ],
   "source": [
    "import pathlib\n",
    "\n",
    "import anywidget\n",
    "import traitlets\n",
    "from pathlib import Path\n",
    "\n",
    "\n",
    "__file__ = Path().resolve() / 'src' / 'ipymolstar' / 'script.py'\n",
    "\n",
    "custom_data = { \"url\": \"http://localhost:8888/files/assets/1qyn.pdb?_xsrf=2%7Cc1810e12%7C8a144937b5ea77b35b1a4a393c7ee119%7C1707130076\", \"format\": \"pdb\" }\n",
    "\n",
    "class PDBeMolstar(anywidget.AnyWidget):\n",
    "    _esm = pathlib.Path(__file__).parent / \"widget.js\"\n",
    "    _css = pathlib.Path(__file__).parent / \"widget.css\"\n",
    "    value = traitlets.Int(0).tag(sync=True)\n",
    "\n",
    "    molecule_id = traitlets.Unicode().tag(sync=True)\n",
    "    custom_data = traitlets.Dict().tag(sync=True)\n",
    "\n",
    "    bg_color = traitlets.Unicode(\"#F7F7F7\").tag(sync=True)\n",
    "\n",
    "    spin = traitlets.Bool(False).tag(sync=True)\n",
    "\n",
    "    hide_polymer = traitlets.Bool(False).tag(sync=True)\n",
    "    hide_water = traitlets.Bool(False).tag(sync=True)\n",
    "    hide_heteroatoms = traitlets.Bool(False).tag(sync=True)\n",
    "    hide_carbs = traitlets.Bool(False).tag(sync=True)\n",
    "    hide_non_standard = traitlets.Bool(False).tag(sync=True)\n",
    "    hide_coarse = traitlets.Bool(False).tag(sync=True)\n",
    "\n",
    "    _select = traitlets.Dict().tag(sync=True)\n",
    "\n",
    "    # def __init__(self, *args, **kwargs):\n",
    "    #     print(self._css)\n",
    "    #     _css = (pathlib.Path(__file__).parent / \"widget.css\").read_text()\n",
    "    #     super().__init__(*args,  _css=_css, **kwargs)\n",
    "    \n",
    "    def color(self, data, non_selected_color=None):\n",
    "        \"\"\"\n",
    "        Alias for PDBE Molstar's `select` method.\n",
    "\n",
    "        See https://github.com/molstar/pdbe-molstar/wiki/3.-Helper-Methods for parameter\n",
    "        details\n",
    "        \"\"\"\n",
    "\n",
    "        self._select = {\"data\": data, \"nonSelectedColor\": non_selected_color}\n",
    "\n",
    "\n",
    "view = PDBeMolstar(custom_data=custom_data, hide_water=True)\n",
    "view"
   ]
  },
  {
   "cell_type": "code",
   "execution_count": 85,
   "metadata": {},
   "outputs": [],
   "source": [
    "data = [{\n",
    "    'start_residue_number': 10,\n",
    "    'end_residue_number': 150,\n",
    "    'struct_asym_id': 'A',\n",
    "    'color': {'r': 255, 'g': 215, 'b': 0},\n",
    "    'focus': False,\n",
    "    },\n",
    "        {\n",
    "    'start_residue_number': 30,\n",
    "    'end_residue_number': 200,\n",
    "    'struct_asym_id': 'B',\n",
    "    'color': {'r': 213, 'g': 52, 'b': 235},\n",
    "    'focus': False,\n",
    "    }\n",
    "       ]\n",
    "view.color(data, non_selected_color = {'r': 0, 'g': 87, 'b': 0})"
   ]
  },
  {
   "cell_type": "code",
   "execution_count": 41,
   "metadata": {},
   "outputs": [],
   "source": [
    "view.hide_water = False"
   ]
  },
  {
   "cell_type": "code",
   "execution_count": 79,
   "metadata": {},
   "outputs": [],
   "source": [
    "view.spin = True"
   ]
  },
  {
   "cell_type": "code",
   "execution_count": 73,
   "metadata": {},
   "outputs": [
    {
     "data": {
      "text/plain": [
       "True"
      ]
     },
     "execution_count": 73,
     "metadata": {},
     "output_type": "execute_result"
    }
   ],
   "source": [
    "view.spin"
   ]
  },
  {
   "cell_type": "code",
   "execution_count": null,
   "metadata": {},
   "outputs": [],
   "source": []
  }
 ],
 "metadata": {
  "kernelspec": {
   "display_name": "Python 3 (ipykernel)",
   "language": "python",
   "name": "python3"
  },
  "language_info": {
   "codemirror_mode": {
    "name": "ipython",
    "version": 3
   },
   "file_extension": ".py",
   "mimetype": "text/x-python",
   "name": "python",
   "nbconvert_exporter": "python",
   "pygments_lexer": "ipython3",
   "version": "3.10.13"
  }
 },
 "nbformat": 4,
 "nbformat_minor": 4
}
