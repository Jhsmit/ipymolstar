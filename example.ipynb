{
 "cells": [
  {
   "cell_type": "code",
   "execution_count": 1,
   "metadata": {},
   "outputs": [
    {
     "data": {
      "application/vnd.jupyter.widget-view+json": {
       "model_id": "898f20dddae440c8aa41c8197975bef7",
       "version_major": 2,
       "version_minor": 0
      },
      "text/plain": [
       "PDBeMolstar(bg_color='#111111', hide_water=True, lighting='metallic', loading_overlay=True, molecule_id='1qyn'…"
      ]
     },
     "execution_count": 1,
     "metadata": {},
     "output_type": "execute_result"
    }
   ],
   "source": [
    "from ipymolstar import PDBeMolstar\n",
    "\n",
    "view = PDBeMolstar(molecule_id='1qyn', theme='dark', \n",
    "                   hide_water=True, visual_style='cartoon',\n",
    "                   lighting='metallic',hide_expand_icon=False,hide_controls_icon=False,\n",
    "                  hide_controls=False, sequence_panel=True, pdbe_link=False, \n",
    "                  loading_overlay=True, expanded=False,\n",
    "                  )\n",
    "\n",
    "view"
   ]
  },
  {
   "cell_type": "code",
   "execution_count": 4,
   "metadata": {},
   "outputs": [],
   "source": [
    "data = [{\n",
    "    'entity_id': '1',\n",
    "    'struct_asym_id': 'A',\n",
    "    'start_residue_number': 10,\n",
    "    'end_residue_number': 15\n",
    "}]\n",
    "\n",
    "view.focus(data)"
   ]
  },
  {
   "cell_type": "code",
   "execution_count": 3,
   "metadata": {},
   "outputs": [],
   "source": [
    "data_dict = {\n",
    "    'data': [{\n",
    "        'entity_id': '1',\n",
    "        'struct_asym_id': 'A',\n",
    "        'start_residue_number': 10,\n",
    "        'end_residue_number': 15\n",
    "    }]\n",
    "}\n",
    "\n",
    "view.highlight(data_dict)"
   ]
  },
  {
   "cell_type": "code",
   "execution_count": 4,
   "metadata": {},
   "outputs": [],
   "source": [
    "view.clear_highlight()"
   ]
  },
  {
   "cell_type": "code",
   "execution_count": 2,
   "metadata": {},
   "outputs": [],
   "source": [
    "data = [{\n",
    "    'start_residue_number': 0,\n",
    "    'end_residue_number': 200,\n",
    "    'struct_asym_id': 'A',\n",
    "    'color': {'r': 100, 'g': 150, 'b': 120},\n",
    "    'focus': False,\n",
    "    },\n",
    "        {\n",
    "    'start_residue_number': 30,\n",
    "    'end_residue_number': 190,\n",
    "    'struct_asym_id': 'B',\n",
    "    'color': {'r': 213, 'g': 52, 'b': 235},\n",
    "    'focus': False,\n",
    "    }\n",
    "       ]\n",
    "view.color(data, non_selected_color = {'r': 0, 'g': 87, 'b': 0})"
   ]
  },
  {
   "cell_type": "code",
   "execution_count": 5,
   "metadata": {},
   "outputs": [
    {
     "data": {
      "text/plain": [
       "'1.28.0'"
      ]
     },
     "execution_count": 5,
     "metadata": {},
     "output_type": "execute_result"
    }
   ],
   "source": [
    "import solara\n",
    "solara.__version__"
   ]
  },
  {
   "cell_type": "code",
   "execution_count": 5,
   "metadata": {},
   "outputs": [],
   "source": [
    "view.visual_style='cartoon'"
   ]
  },
  {
   "cell_type": "code",
   "execution_count": 4,
   "metadata": {},
   "outputs": [
    {
     "data": {
      "text/plain": [
       "'molecular-surface'"
      ]
     },
     "execution_count": 4,
     "metadata": {},
     "output_type": "execute_result"
    }
   ],
   "source": [
    "view.visual_style"
   ]
  },
  {
   "cell_type": "code",
   "execution_count": 4,
   "metadata": {},
   "outputs": [
    {
     "data": {
      "text/plain": [
       "'plastic'"
      ]
     },
     "execution_count": 4,
     "metadata": {},
     "output_type": "execute_result"
    }
   ],
   "source": [
    "view.lighting "
   ]
  },
  {
   "cell_type": "code",
   "execution_count": null,
   "metadata": {},
   "outputs": [],
   "source": []
  },
  {
   "cell_type": "code",
   "execution_count": 4,
   "metadata": {},
   "outputs": [],
   "source": [
    "view.lighting = 'metallic'"
   ]
  },
  {
   "cell_type": "code",
   "execution_count": 17,
   "metadata": {},
   "outputs": [],
   "source": [
    "view.hide_water = False"
   ]
  },
  {
   "cell_type": "code",
   "execution_count": 27,
   "metadata": {},
   "outputs": [],
   "source": [
    "view.spin = False"
   ]
  },
  {
   "cell_type": "code",
   "execution_count": null,
   "metadata": {},
   "outputs": [],
   "source": [
    "data = [{\n",
    "    'entity_id': '1',\n",
    "    'struct_asym_id': 'A',\n",
    "    'start_residue_number': 10,\n",
    "    'end_residue_number': 15\n",
    "}]\n"
   ]
  },
  {
   "cell_type": "code",
   "execution_count": 73,
   "metadata": {},
   "outputs": [
    {
     "data": {
      "text/plain": [
       "True"
      ]
     },
     "execution_count": 73,
     "metadata": {},
     "output_type": "execute_result"
    }
   ],
   "source": [
    "view.spin = True"
   ]
  },
  {
   "cell_type": "code",
   "execution_count": null,
   "metadata": {},
   "outputs": [],
   "source": []
  }
 ],
 "metadata": {
  "kernelspec": {
   "display_name": "Python 3 (ipykernel)",
   "language": "python",
   "name": "python3"
  },
  "language_info": {
   "codemirror_mode": {
    "name": "ipython",
    "version": 3
   },
   "file_extension": ".py",
   "mimetype": "text/x-python",
   "name": "python",
   "nbconvert_exporter": "python",
   "pygments_lexer": "ipython3",
   "version": "3.10.13"
  }
 },
 "nbformat": 4,
 "nbformat_minor": 4
}
